{
 "cells": [
  {
   "cell_type": "markdown",
   "metadata": {},
   "source": [
    "## Tutorial 1 - Basic Python\n",
    "\n",
    "This chapter focuses on providing a foundation to Python: how to run Python, the basic data types, and how to write functions to perform tasks.\n",
    "\n",
    "### Topics covered:\n",
    "\n",
    "- Hello world!\n",
    "    - Executing commands\n",
    "    - Printing\n",
    "- Data types\n",
    "    - Segue from inability to print a combination of number and words\n",
    "    - Have to wrap as a `str` type\n",
    "    - `int`, `float`, `str`\n",
    "    - `list`, `dict`\n",
    "- Functions\n",
    "    - How to define `func` in Python\n",
    "    - Basic hello world function\n",
    "    - Basic \"print a number\"\n",
    "    - Basic arithmetic\n",
    "- Iterating in Python\n",
    "    - `for` loops\n",
    "    - `list` comprehension (contrast with C++)\n",
    "    - `dict` looping\n",
    "- External libraries\n",
    "    - Importing a function\n",
    "    - Importing installed packages (`os`, `shutil`)"
   ]
  },
  {
   "cell_type": "markdown",
   "metadata": {},
   "source": [
    "---\n",
    "\n",
    "### Hello world!\n",
    "\n",
    "Commands in the Python interpreter are run interactively - this means that lines are typed in one by one, and the result is piped back to you as an output, kind of like a dialogue between you and the computer.\n",
    "\n",
    "The simplest command we can run is the `print()` command, which is broken down  into two parts:\n",
    "\n",
    "`print` is the name of the function, which is an internally defined function in Python."
   ]
  },
  {
   "cell_type": "code",
   "execution_count": 1,
   "metadata": {},
   "outputs": [
    {
     "data": {
      "text/plain": [
       "<function print>"
      ]
     },
     "execution_count": 1,
     "metadata": {},
     "output_type": "execute_result"
    }
   ],
   "source": [
    "print"
   ]
  },
  {
   "cell_type": "markdown",
   "metadata": {},
   "source": [
    "Without specifying an \"argument\" (i.e. a variable) to a function, Python returns the data type - in this case, Python recognizes `print` is a function. An argument is provided by parentheses:"
   ]
  },
  {
   "cell_type": "code",
   "execution_count": 3,
   "metadata": {},
   "outputs": [
    {
     "name": "stdout",
     "output_type": "stream",
     "text": [
      "Hello world!\n"
     ]
    }
   ],
   "source": [
    "print(\"Hello world!\")"
   ]
  },
  {
   "cell_type": "markdown",
   "metadata": {},
   "source": [
    "So the `print` function takes input within the quote marks, and displays it on screen. If we omit the quote marks, the interpreter won't be happy:"
   ]
  },
  {
   "cell_type": "code",
   "execution_count": 8,
   "metadata": {},
   "outputs": [
    {
     "ename": "SyntaxError",
     "evalue": "invalid syntax (<ipython-input-8-73d27853944f>, line 1)",
     "output_type": "error",
     "traceback": [
      "\u001b[0;36m  File \u001b[0;32m\"<ipython-input-8-73d27853944f>\"\u001b[0;36m, line \u001b[0;32m1\u001b[0m\n\u001b[0;31m    print(Hello world!)\u001b[0m\n\u001b[0m                    ^\u001b[0m\n\u001b[0;31mSyntaxError\u001b[0m\u001b[0;31m:\u001b[0m invalid syntax\n"
     ]
    }
   ],
   "source": [
    "print(Hello world!)"
   ]
  },
  {
   "cell_type": "markdown",
   "metadata": {},
   "source": [
    "There are two mistakes in the above code: Python interprets everything typed outside of quote marks as variables, and so it's actually interpreting the \"hello\" and the \"world\" as two variables, and the bang (!) as a conditional (more on that later). The correct way to print the message is by wrapping the whole message as a single \"string\" by placing it in quotation marks.\n",
    "\n",
    "An exception to this is printing numeric values:"
   ]
  },
  {
   "cell_type": "code",
   "execution_count": 6,
   "metadata": {},
   "outputs": [
    {
     "name": "stdout",
     "output_type": "stream",
     "text": [
      "5\n"
     ]
    }
   ],
   "source": [
    "# Print the number five\n",
    "print(5)"
   ]
  },
  {
   "cell_type": "code",
   "execution_count": 7,
   "metadata": {},
   "outputs": [
    {
     "name": "stdout",
     "output_type": "stream",
     "text": [
      "0.2\n"
     ]
    }
   ],
   "source": [
    "# You can also print decimal values\n",
    "print(0.2)"
   ]
  },
  {
   "cell_type": "markdown",
   "metadata": {},
   "source": [
    "---\n",
    "\n",
    "### Data types\n",
    "\n",
    "The `print` function, as we have seen, will display whatever we have fed to it so far as an argument. While it's nice to be able to write Hello world, it's infinitely more useful to be able to do print numbers and text in the same line. To combine multiple words/sentences together, we can \"add\" them:"
   ]
  },
  {
   "cell_type": "code",
   "execution_count": 9,
   "metadata": {},
   "outputs": [
    {
     "name": "stdout",
     "output_type": "stream",
     "text": [
      "Helloworld!\n"
     ]
    }
   ],
   "source": [
    "print(\"Hello\" + \"world!\")"
   ]
  },
  {
   "cell_type": "markdown",
   "metadata": {},
   "source": [
    "The resulting printout is the combination of the two words - in Python, this type of data is called a __string__, known internally as `str`"
   ]
  },
  {
   "cell_type": "code",
   "execution_count": 12,
   "metadata": {},
   "outputs": [
    {
     "data": {
      "text/plain": [
       "str"
      ]
     },
     "execution_count": 12,
     "metadata": {},
     "output_type": "execute_result"
    }
   ],
   "source": [
    "str"
   ]
  },
  {
   "cell_type": "markdown",
   "metadata": {},
   "source": [
    "If you are running Python interactively using IPython or Jupyter notebook, data types are displayed with green text.\n",
    "\n",
    "The operation is different, however, when dealing with computations. The `print` function will display the result of the computation, rather than the individual numbers:"
   ]
  },
  {
   "cell_type": "code",
   "execution_count": 13,
   "metadata": {},
   "outputs": [
    {
     "name": "stdout",
     "output_type": "stream",
     "text": [
      "7\n"
     ]
    }
   ],
   "source": [
    "print(5 + 2)"
   ]
  },
  {
   "cell_type": "markdown",
   "metadata": {},
   "source": [
    "If you want to display the values instead, we have to convert the expression into a __string__, by again wrapping it in quotation marks:"
   ]
  },
  {
   "cell_type": "code",
   "execution_count": 15,
   "metadata": {},
   "outputs": [
    {
     "name": "stdout",
     "output_type": "stream",
     "text": [
      "5 + 2\n"
     ]
    }
   ],
   "source": [
    "print(\"5 + 2\")"
   ]
  },
  {
   "cell_type": "markdown",
   "metadata": {},
   "source": [
    "A summary of the basic Python data types; these should be familiar if you have had some experience in coding previously:\n",
    "\n",
    "1. String/`str()`      - Simple alphabet/numerals\n",
    "2. Integer/`int()`     - Self-explanatory\n",
    "3. Float/`float()`     - Decimal number\n",
    "4. Boolean/`boolean()` - True/False\n",
    "\n",
    "Some more Python specific data types include:\n",
    "\n",
    "1. Lists/`list()`        - A \"list\" of data, with no restriction of the types of data stored\n",
    "2. Dictionaries/`dict()` - A more complex form of `list`, where each item can be accessed by a keyword.\n",
    "\n",
    "While you can play around with the basic data types, lists and dictionaries may require more introduction, and are a crucial part to being able to use Python effectively.\n",
    "\n",
    "To elaborate on the `list` data type, you can basically imagine it to be a box of infinite size: you can put anything you want inside: books, food, money, and any combination of these things. A `list` is defined using square brackets `[]`:"
   ]
  },
  {
   "cell_type": "code",
   "execution_count": 17,
   "metadata": {},
   "outputs": [
    {
     "name": "stdout",
     "output_type": "stream",
     "text": [
      "['Apple', 'Pear', 'Ananas']\n"
     ]
    }
   ],
   "source": [
    "food_list = [\"Apple\", \"Pear\", \"Ananas\"]\n",
    "\n",
    "print(food_list)"
   ]
  },
  {
   "cell_type": "markdown",
   "metadata": {},
   "source": [
    "The objects within the list can be accessed by indexing, much like you would with an array; the index is specified by square brackets, followed by the index number within. Python indexing, like some other languages begin indexing from zero:"
   ]
  },
  {
   "cell_type": "code",
   "execution_count": 18,
   "metadata": {},
   "outputs": [
    {
     "name": "stdout",
     "output_type": "stream",
     "text": [
      "Apple\n"
     ]
    }
   ],
   "source": [
    "print(food_list[0])      # First item in the list"
   ]
  },
  {
   "cell_type": "code",
   "execution_count": 19,
   "metadata": {},
   "outputs": [
    {
     "name": "stdout",
     "output_type": "stream",
     "text": [
      "Pear\n"
     ]
    }
   ],
   "source": [
    "print(food_list[1])      # Second item in the list"
   ]
  },
  {
   "cell_type": "code",
   "execution_count": 22,
   "metadata": {},
   "outputs": [
    {
     "name": "stdout",
     "output_type": "stream",
     "text": [
      "Apple Ananas\n"
     ]
    }
   ],
   "source": [
    "print(food_list[0], food_list[2])       # Print multiple items together"
   ]
  },
  {
   "cell_type": "markdown",
   "metadata": {},
   "source": [
    "You can access and change the values of lists by indexing, like so:"
   ]
  },
  {
   "cell_type": "code",
   "execution_count": 23,
   "metadata": {},
   "outputs": [
    {
     "name": "stdout",
     "output_type": "stream",
     "text": [
      "['Apple', 'Orange', 'Ananas']\n"
     ]
    }
   ],
   "source": [
    "food_list[1] = \"Orange\"        # Set the second item as orange\n",
    "\n",
    "print(food_list)               # print the list out"
   ]
  },
  {
   "cell_type": "markdown",
   "metadata": {},
   "source": [
    "You can't, however, access indices outside the range of the list:"
   ]
  },
  {
   "cell_type": "code",
   "execution_count": 24,
   "metadata": {},
   "outputs": [
    {
     "ename": "IndexError",
     "evalue": "list assignment index out of range",
     "output_type": "error",
     "traceback": [
      "\u001b[0;31m---------------------------------------------------------------------------\u001b[0m",
      "\u001b[0;31mIndexError\u001b[0m                                Traceback (most recent call last)",
      "\u001b[0;32m<ipython-input-24-dd3f8dc309da>\u001b[0m in \u001b[0;36m<module>\u001b[0;34m()\u001b[0m\n\u001b[0;32m----> 1\u001b[0;31m \u001b[0mfood_list\u001b[0m\u001b[0;34m[\u001b[0m\u001b[0;36m4\u001b[0m\u001b[0;34m]\u001b[0m \u001b[0;34m=\u001b[0m \u001b[0;34m\"Guava\"\u001b[0m\u001b[0;34m\u001b[0m\u001b[0m\n\u001b[0m",
      "\u001b[0;31mIndexError\u001b[0m: list assignment index out of range"
     ]
    }
   ],
   "source": [
    "food_list[4] = \"Guava\""
   ]
  },
  {
   "cell_type": "markdown",
   "metadata": {},
   "source": [
    "Instead, you have to `append` to the list. A list in programming language an __object__, which possesses __properties__ and __methods__. In non-programming language this is equivalent to the definition of a shoe; a shoe has the property of being made of a certain material, and a method that belongs to the shoe may be the ability to tie the shoelaces.\n",
    "\n",
    "A list has the __method__ of `append`, which does exactly as the name implies:"
   ]
  },
  {
   "cell_type": "code",
   "execution_count": 25,
   "metadata": {},
   "outputs": [
    {
     "name": "stdout",
     "output_type": "stream",
     "text": [
      "['Apple', 'Orange', 'Ananas', 'Guava']\n"
     ]
    }
   ],
   "source": [
    "food_list.append(\"Guava\")         # Add guava to the back of the list\n",
    "\n",
    "print(food_list)                  # print the list"
   ]
  },
  {
   "cell_type": "markdown",
   "metadata": {},
   "source": [
    "A very closely related data type are dictionaries, which like lists are containers for data. However, they are distinguished by using keyword indexing, rather than numeric. This type of data is ideall"
   ]
  },
  {
   "cell_type": "code",
   "execution_count": null,
   "metadata": {
    "collapsed": true
   },
   "outputs": [],
   "source": []
  }
 ],
 "metadata": {
  "kernelspec": {
   "display_name": "Python [default]",
   "language": "python",
   "name": "python3"
  },
  "language_info": {
   "codemirror_mode": {
    "name": "ipython",
    "version": 3
   },
   "file_extension": ".py",
   "mimetype": "text/x-python",
   "name": "python",
   "nbconvert_exporter": "python",
   "pygments_lexer": "ipython3",
   "version": "3.5.3"
  }
 },
 "nbformat": 4,
 "nbformat_minor": 2
}
