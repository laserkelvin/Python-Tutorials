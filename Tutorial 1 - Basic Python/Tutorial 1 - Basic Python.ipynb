{
 "cells": [
  {
   "cell_type": "markdown",
   "metadata": {},
   "source": [
    "## Tutorial 1 - Basic Python\n",
    "\n",
    "This chapter focuses on providing a foundation to Python: how to run Python, the basic data types, and how to write functions to perform tasks.\n",
    "\n",
    "### Topics covered:\n",
    "\n",
    "- Hello world!\n",
    "    - Executing commands\n",
    "    - Printing\n",
    "- Data types\n",
    "    - Segue from inability to print a combination of number and words\n",
    "    - Have to wrap as a `str` type\n",
    "    - `int`, `float`, `str`\n",
    "    - `list`, `dict`\n",
    "- Iterating in Python\n",
    "    - `for` loops\n",
    "    - `list` comprehension (contrast with C++)\n",
    "    - `dict` looping\n",
    "- Logic operators\n",
    "    - `if`, `else`, and `elif`\n",
    "    - `and` `or`\n",
    "- Functions\n",
    "    - How to define `func` in Python\n",
    "    - Basic hello world function\n",
    "    - Basic \"print a number\"\n",
    "    - Basic arithmetic\n",
    "- External libraries\n",
    "    - Importing a function\n",
    "    - Importing installed packages (`os`, `shutil`)"
   ]
  },
  {
   "cell_type": "markdown",
   "metadata": {},
   "source": [
    "---\n",
    "\n",
    "### Hello world!\n",
    "\n",
    "Commands in the Python interpreter are run interactively - this means that lines are typed in one by one, and the result is piped back to you as an output, kind of like a dialogue between you and the computer.\n",
    "\n",
    "The simplest command we can run is the `print()` command, which is broken down  into two parts:\n",
    "\n",
    "`print` is the name of the function, which is an internally defined function in Python."
   ]
  },
  {
   "cell_type": "code",
   "execution_count": 1,
   "metadata": {},
   "outputs": [
    {
     "data": {
      "text/plain": [
       "<function print>"
      ]
     },
     "execution_count": 1,
     "metadata": {},
     "output_type": "execute_result"
    }
   ],
   "source": [
    "print"
   ]
  },
  {
   "cell_type": "markdown",
   "metadata": {},
   "source": [
    "Without specifying an \"argument\" (i.e. a variable) to a function, Python returns the data type - in this case, Python recognizes `print` is a function. An argument is provided by parentheses:"
   ]
  },
  {
   "cell_type": "code",
   "execution_count": 3,
   "metadata": {},
   "outputs": [
    {
     "name": "stdout",
     "output_type": "stream",
     "text": [
      "Hello world!\n"
     ]
    }
   ],
   "source": [
    "print(\"Hello world!\")"
   ]
  },
  {
   "cell_type": "markdown",
   "metadata": {},
   "source": [
    "So the `print` function takes input within the quote marks, and displays it on screen. If we omit the quote marks, the interpreter won't be happy:"
   ]
  },
  {
   "cell_type": "code",
   "execution_count": 8,
   "metadata": {},
   "outputs": [
    {
     "ename": "SyntaxError",
     "evalue": "invalid syntax (<ipython-input-8-73d27853944f>, line 1)",
     "output_type": "error",
     "traceback": [
      "\u001b[0;36m  File \u001b[0;32m\"<ipython-input-8-73d27853944f>\"\u001b[0;36m, line \u001b[0;32m1\u001b[0m\n\u001b[0;31m    print(Hello world!)\u001b[0m\n\u001b[0m                    ^\u001b[0m\n\u001b[0;31mSyntaxError\u001b[0m\u001b[0;31m:\u001b[0m invalid syntax\n"
     ]
    }
   ],
   "source": [
    "print(Hello world!)"
   ]
  },
  {
   "cell_type": "markdown",
   "metadata": {},
   "source": [
    "There are two mistakes in the above code: Python interprets everything typed outside of quote marks as variables, and so it's actually interpreting the \"hello\" and the \"world\" as two variables, and the bang (!) as a conditional (more on that later). The correct way to print the message is by wrapping the whole message as a single \"string\" by placing it in quotation marks.\n",
    "\n",
    "An exception to this is printing numeric values:"
   ]
  },
  {
   "cell_type": "code",
   "execution_count": 6,
   "metadata": {},
   "outputs": [
    {
     "name": "stdout",
     "output_type": "stream",
     "text": [
      "5\n"
     ]
    }
   ],
   "source": [
    "# Print the number five\n",
    "print(5)"
   ]
  },
  {
   "cell_type": "code",
   "execution_count": 7,
   "metadata": {},
   "outputs": [
    {
     "name": "stdout",
     "output_type": "stream",
     "text": [
      "0.2\n"
     ]
    }
   ],
   "source": [
    "# You can also print decimal values\n",
    "print(0.2)"
   ]
  },
  {
   "cell_type": "markdown",
   "metadata": {},
   "source": [
    "---\n",
    "\n",
    "### Data types\n",
    "\n",
    "The `print` function, as we have seen, will display whatever we have fed to it so far as an argument. While it's nice to be able to write Hello world, it's infinitely more useful to be able to do print numbers and text in the same line. To combine multiple words/sentences together, we can \"add\" them:"
   ]
  },
  {
   "cell_type": "code",
   "execution_count": 9,
   "metadata": {},
   "outputs": [
    {
     "name": "stdout",
     "output_type": "stream",
     "text": [
      "Helloworld!\n"
     ]
    }
   ],
   "source": [
    "print(\"Hello\" + \"world!\")"
   ]
  },
  {
   "cell_type": "markdown",
   "metadata": {},
   "source": [
    "The resulting printout is the combination of the two words - in Python, this type of data is called a __string__, known internally as `str`"
   ]
  },
  {
   "cell_type": "code",
   "execution_count": 12,
   "metadata": {},
   "outputs": [
    {
     "data": {
      "text/plain": [
       "str"
      ]
     },
     "execution_count": 12,
     "metadata": {},
     "output_type": "execute_result"
    }
   ],
   "source": [
    "str"
   ]
  },
  {
   "cell_type": "markdown",
   "metadata": {},
   "source": [
    "If you are running Python interactively using IPython or Jupyter notebook, data types are displayed with green text.\n",
    "\n",
    "The operation is different, however, when dealing with computations. The `print` function will display the result of the computation, rather than the individual numbers:"
   ]
  },
  {
   "cell_type": "code",
   "execution_count": 13,
   "metadata": {},
   "outputs": [
    {
     "name": "stdout",
     "output_type": "stream",
     "text": [
      "7\n"
     ]
    }
   ],
   "source": [
    "print(5 + 2)"
   ]
  },
  {
   "cell_type": "markdown",
   "metadata": {},
   "source": [
    "If you want to display the values instead, we have to convert the expression into a __string__, by again wrapping it in quotation marks:"
   ]
  },
  {
   "cell_type": "code",
   "execution_count": 15,
   "metadata": {},
   "outputs": [
    {
     "name": "stdout",
     "output_type": "stream",
     "text": [
      "5 + 2\n"
     ]
    }
   ],
   "source": [
    "print(\"5 + 2\")"
   ]
  },
  {
   "cell_type": "markdown",
   "metadata": {},
   "source": [
    "#### Example task\n",
    "\n",
    "Print the following message, and the resulting computation together in a single print line:\n",
    "\n",
    "\"The answer of 5 + 2 is: \"\n",
    "\n",
    "---"
   ]
  },
  {
   "cell_type": "markdown",
   "metadata": {},
   "source": [
    "A summary of the basic Python data types; these should be familiar if you have had some experience in coding previously:\n",
    "\n",
    "1. String/`str()`      - Simple alphabet/numerals\n",
    "2. Integer/`int()`     - Self-explanatory\n",
    "3. Float/`float()`     - Decimal number\n",
    "4. Boolean/`boolean()` - True/False\n",
    "\n",
    "Some more Python specific data types include:\n",
    "\n",
    "1. Lists/`list()`        - A \"list\" of data, with no restriction of the types of data stored\n",
    "2. Dictionaries/`dict()` - A more complex form of `list`, where each item can be accessed by a keyword.\n",
    "\n",
    "While you can play around with the basic data types, lists and dictionaries may require more introduction, and are a crucial part to being able to use Python effectively.\n",
    "\n",
    "To elaborate on the `list` data type, you can basically imagine it to be a box of infinite size: you can put anything you want inside: books, food, money, and any combination of these things. A `list` is defined using square brackets `[]`:"
   ]
  },
  {
   "cell_type": "code",
   "execution_count": 11,
   "metadata": {},
   "outputs": [
    {
     "name": "stdout",
     "output_type": "stream",
     "text": [
      "['Apple', 'Pear', 'Ananas']\n"
     ]
    }
   ],
   "source": [
    "food_list = [\"Apple\", \"Pear\", \"Ananas\"]\n",
    "\n",
    "print(food_list)"
   ]
  },
  {
   "cell_type": "markdown",
   "metadata": {},
   "source": [
    "The objects within the list can be accessed by indexing, much like you would with an array; the index is specified by square brackets, followed by the index number within. Python indexing, like some other languages begin indexing from zero:"
   ]
  },
  {
   "cell_type": "code",
   "execution_count": 12,
   "metadata": {},
   "outputs": [
    {
     "name": "stdout",
     "output_type": "stream",
     "text": [
      "Apple\n"
     ]
    }
   ],
   "source": [
    "print(food_list[0])      # First item in the list"
   ]
  },
  {
   "cell_type": "code",
   "execution_count": 13,
   "metadata": {},
   "outputs": [
    {
     "name": "stdout",
     "output_type": "stream",
     "text": [
      "Pear\n"
     ]
    }
   ],
   "source": [
    "print(food_list[1])      # Second item in the list"
   ]
  },
  {
   "cell_type": "code",
   "execution_count": 14,
   "metadata": {},
   "outputs": [
    {
     "name": "stdout",
     "output_type": "stream",
     "text": [
      "Apple Ananas\n"
     ]
    }
   ],
   "source": [
    "print(food_list[0], food_list[2])       # Print multiple items together"
   ]
  },
  {
   "cell_type": "markdown",
   "metadata": {},
   "source": [
    "You can access and change the values of lists by indexing, like so:"
   ]
  },
  {
   "cell_type": "code",
   "execution_count": 15,
   "metadata": {},
   "outputs": [
    {
     "name": "stdout",
     "output_type": "stream",
     "text": [
      "['Apple', 'Orange', 'Ananas']\n"
     ]
    }
   ],
   "source": [
    "food_list[1] = \"Orange\"        # Set the second item as orange\n",
    "\n",
    "print(food_list)               # print the list out"
   ]
  },
  {
   "cell_type": "markdown",
   "metadata": {},
   "source": [
    "You can't, however, access indices outside the range of the list:"
   ]
  },
  {
   "cell_type": "code",
   "execution_count": 16,
   "metadata": {},
   "outputs": [
    {
     "ename": "IndexError",
     "evalue": "list assignment index out of range",
     "output_type": "error",
     "traceback": [
      "\u001b[0;31m---------------------------------------------------------------------------\u001b[0m",
      "\u001b[0;31mIndexError\u001b[0m                                Traceback (most recent call last)",
      "\u001b[0;32m<ipython-input-16-dd3f8dc309da>\u001b[0m in \u001b[0;36m<module>\u001b[0;34m()\u001b[0m\n\u001b[0;32m----> 1\u001b[0;31m \u001b[0mfood_list\u001b[0m\u001b[0;34m[\u001b[0m\u001b[0;36m4\u001b[0m\u001b[0;34m]\u001b[0m \u001b[0;34m=\u001b[0m \u001b[0;34m\"Guava\"\u001b[0m\u001b[0;34m\u001b[0m\u001b[0m\n\u001b[0m",
      "\u001b[0;31mIndexError\u001b[0m: list assignment index out of range"
     ]
    }
   ],
   "source": [
    "food_list[4] = \"Guava\""
   ]
  },
  {
   "cell_type": "markdown",
   "metadata": {},
   "source": [
    "Instead, you have to `append` to the list. A list in programming language an __object__, which possesses __properties__ and __methods__. In non-programming language this is equivalent to the definition of a shoe; a shoe has the property of being made of a certain material, and a method that belongs to the shoe may be the ability to tie the shoelaces.\n",
    "\n",
    "A list has the __method__ of `append`, which does exactly as the name implies:"
   ]
  },
  {
   "cell_type": "code",
   "execution_count": 17,
   "metadata": {},
   "outputs": [
    {
     "name": "stdout",
     "output_type": "stream",
     "text": [
      "['Apple', 'Orange', 'Ananas', 'Guava']\n"
     ]
    }
   ],
   "source": [
    "food_list.append(\"Guava\")         # Add guava to the back of the list\n",
    "\n",
    "print(food_list)                  # print the list"
   ]
  },
  {
   "cell_type": "markdown",
   "metadata": {},
   "source": [
    "A very closely related data type are dictionaries, which like lists are containers for data. However, they are distinguished by using keyword indexing, rather than numeric. This type of data is ideally suited for names and properties associated with each name. The classic example are test scores for a class, or perhaps the number of atoms in a molecule:"
   ]
  },
  {
   "cell_type": "code",
   "execution_count": 19,
   "metadata": {
    "collapsed": true
   },
   "outputs": [],
   "source": [
    "molecule_dict = {\n",
    "    \"H2O\": 3,\n",
    "    \"H2CO\": 4,\n",
    "    \"C6H6\": 12,\n",
    "    \"C60\": 60\n",
    "}"
   ]
  },
  {
   "cell_type": "code",
   "execution_count": 21,
   "metadata": {},
   "outputs": [
    {
     "name": "stdout",
     "output_type": "stream",
     "text": [
      "{'H2O': 3, 'H2CO': 4, 'C6H6': 12, 'C60': 60}\n"
     ]
    }
   ],
   "source": [
    "print(molecule_dict)"
   ]
  },
  {
   "cell_type": "markdown",
   "metadata": {},
   "source": [
    "Dictionaries are then accessed by their \"keys\"; in this example, the molecular formula are \"keys\" and the atom numbers are \"items\"."
   ]
  },
  {
   "cell_type": "code",
   "execution_count": 22,
   "metadata": {},
   "outputs": [
    {
     "name": "stdout",
     "output_type": "stream",
     "text": [
      "3\n"
     ]
    }
   ],
   "source": [
    "print(molecule_dict[\"H2O\"])"
   ]
  },
  {
   "cell_type": "markdown",
   "metadata": {},
   "source": [
    "Different to lists, however, you do not need to \"append\" to a dictionary. Because there is no inherent ordering of the items/keys, you can access any of them without having to count the index. The method `dict.keys()` generates a list of the keys:"
   ]
  },
  {
   "cell_type": "code",
   "execution_count": 23,
   "metadata": {},
   "outputs": [
    {
     "data": {
      "text/plain": [
       "dict_keys(['H2O', 'H2CO', 'C6H6', 'C60'])"
      ]
     },
     "execution_count": 23,
     "metadata": {},
     "output_type": "execute_result"
    }
   ],
   "source": [
    "molecule_dict.keys()"
   ]
  },
  {
   "cell_type": "markdown",
   "metadata": {},
   "source": [
    "---\n",
    "\n",
    "### Iterating through data in Python\n",
    "\n",
    "Say for example, we want to systematically go through a list without having to deal with each index one by one. This is where iterating comes in handy.\n",
    "\n",
    "This topic in my mind is the most difficult to grasp when you've dealt with other programming languages. There is a \"right\" or \"wrong\" way to write Python code (described as \"Pythonic\"), and when you consult the infinite wisdom of the internet many people will write example code using seemingly complex loops to iterate through data.\n",
    "\n",
    "There are two primary ways to iterate through data; `for` and `while` loops, which should be quite familiar. To write a `for` loop in C++/MatLab, one would write a loop that looks something like this:\n",
    "\n",
    "```\n",
    "   for( int a = 10; a < 20; a = a + 1 ) {\n",
    "      cout << \"value of a: \" << a << endl;\n",
    "   }\n",
    " \n",
    "   return 0;\n",
    "```\n",
    "\n",
    "In Python, the syntax is actually much closer to English: we can think of it as \"for every thing in a box\". While this example is doesn't highlight that very well, we'll first look at what the same loop looks like in Python:"
   ]
  },
  {
   "cell_type": "code",
   "execution_count": 8,
   "metadata": {},
   "outputs": [
    {
     "name": "stdout",
     "output_type": "stream",
     "text": [
      "value of number 10\n",
      "value of number 11\n",
      "value of number 12\n",
      "value of number 13\n",
      "value of number 14\n",
      "value of number 15\n",
      "value of number 16\n",
      "value of number 17\n",
      "value of number 18\n",
      "value of number 19\n"
     ]
    }
   ],
   "source": [
    "for number in range(10, 20):\n",
    "    print(\"value of number \" + str(number))"
   ]
  },
  {
   "cell_type": "markdown",
   "metadata": {},
   "source": [
    "So the same loop can be written much more quickly and easier to read than in the C++ case.\n",
    "\n",
    "The `range()` function simply generates a list of numbers between the range specified:"
   ]
  },
  {
   "cell_type": "code",
   "execution_count": 10,
   "metadata": {},
   "outputs": [
    {
     "data": {
      "text/plain": [
       "[10, 11, 12, 13, 14, 15, 16, 17, 18, 19]"
      ]
     },
     "execution_count": 10,
     "metadata": {},
     "output_type": "execute_result"
    }
   ],
   "source": [
    "list(range(10, 20))"
   ]
  },
  {
   "cell_type": "markdown",
   "metadata": {},
   "source": [
    "All the `for` loop is doing is iterating through the list, from left to right. Naturally, in this syntax it means we are not limited to numbers, but we can iterate through any listable item!"
   ]
  },
  {
   "cell_type": "code",
   "execution_count": 18,
   "metadata": {},
   "outputs": [
    {
     "name": "stdout",
     "output_type": "stream",
     "text": [
      "Apple\n",
      "Orange\n",
      "Ananas\n",
      "Guava\n"
     ]
    }
   ],
   "source": [
    "for fruit in food_list:\n",
    "    print(fruit)"
   ]
  },
  {
   "cell_type": "markdown",
   "metadata": {},
   "source": [
    "The same kind of treatment can be given to dictionaries, although the iterator used here isn't the items in the dictionaries themselves, it's the keys:"
   ]
  },
  {
   "cell_type": "code",
   "execution_count": 24,
   "metadata": {},
   "outputs": [
    {
     "name": "stdout",
     "output_type": "stream",
     "text": [
      "H2O\n",
      "H2CO\n",
      "C6H6\n",
      "C60\n"
     ]
    }
   ],
   "source": [
    "for molecule in molecule_dict:\n",
    "    print(molecule)"
   ]
  },
  {
   "cell_type": "markdown",
   "metadata": {},
   "source": [
    "If you want the items themselves, you'll have to actually access them via the keys:"
   ]
  },
  {
   "cell_type": "code",
   "execution_count": 25,
   "metadata": {},
   "outputs": [
    {
     "name": "stdout",
     "output_type": "stream",
     "text": [
      "3\n",
      "4\n",
      "12\n",
      "60\n"
     ]
    }
   ],
   "source": [
    "for molecule in molecule_dict:\n",
    "    print(molecule_dict[molecule])"
   ]
  },
  {
   "cell_type": "markdown",
   "metadata": {},
   "source": [
    "Which is the same as writing `molecule_dict[\"H2O\"]`, `molecule_dict[\"H2CO\"]`, and so forth.\n",
    "\n",
    "The most Pythonic way of combining lists and loops are referred to list or dictionary comprehensions. Their syntax is actually a little difficult to get used to, but can lead to very powerful one-line code. Take this for example:"
   ]
  },
  {
   "cell_type": "code",
   "execution_count": 26,
   "metadata": {},
   "outputs": [
    {
     "data": {
      "text/plain": [
       "[12, 13, 14, 15, 16, 17, 18, 19, 20, 21]"
      ]
     },
     "execution_count": 26,
     "metadata": {},
     "output_type": "execute_result"
    }
   ],
   "source": [
    "[number + 2 for number in range(10, 20)]"
   ]
  },
  {
   "cell_type": "markdown",
   "metadata": {},
   "source": [
    "This code actually returns a list of numbers that have had some operation performed. You can see that this can be used to quickly generate lists. The below example generates a list where the name of a fruit is prepended with the word \"eat\"."
   ]
  },
  {
   "cell_type": "code",
   "execution_count": 27,
   "metadata": {},
   "outputs": [
    {
     "data": {
      "text/plain": [
       "['eat Apple', 'eat Orange', 'eat Ananas', 'eat Guava']"
      ]
     },
     "execution_count": 27,
     "metadata": {},
     "output_type": "execute_result"
    }
   ],
   "source": [
    "[\"eat \" + fruit for fruit in food_list]"
   ]
  },
  {
   "cell_type": "markdown",
   "metadata": {},
   "source": [
    "You can use dictionary comprehension in a similar way, allowing you to populate a dictionary quickly:"
   ]
  },
  {
   "cell_type": "code",
   "execution_count": 28,
   "metadata": {},
   "outputs": [
    {
     "data": {
      "text/plain": [
       "{0: 'A',\n",
       " 1: 'B',\n",
       " 2: 'C',\n",
       " 3: 'D',\n",
       " 4: 'E',\n",
       " 5: 'F',\n",
       " 6: 'G',\n",
       " 7: 'H',\n",
       " 8: 'I',\n",
       " 9: 'J'}"
      ]
     },
     "execution_count": 28,
     "metadata": {},
     "output_type": "execute_result"
    }
   ],
   "source": [
    "{key: chr(65 + key) for key in range(10)}"
   ]
  },
  {
   "cell_type": "markdown",
   "metadata": {},
   "source": [
    "The syntax used here are curly brackets, with the value corresponding to the key separated by a colon."
   ]
  },
  {
   "cell_type": "markdown",
   "metadata": {},
   "source": [
    "#### Example task\n",
    "\n",
    "Generate a list of even numbers from 0 to 40."
   ]
  },
  {
   "cell_type": "code",
   "execution_count": 33,
   "metadata": {},
   "outputs": [
    {
     "data": {
      "text/plain": [
       "[0, 2, 4, 6, 8, 10, 12, 14, 16, 18, 20, 22, 24, 26, 28, 30, 32, 34, 36, 38]"
      ]
     },
     "execution_count": 33,
     "metadata": {},
     "output_type": "execute_result"
    }
   ],
   "source": [
    "[i * 2 for i in range(21)]         # Don't forget to extend the range!"
   ]
  },
  {
   "cell_type": "markdown",
   "metadata": {
    "collapsed": true
   },
   "source": [
    "---\n",
    "\n",
    "### Functions in Python\n",
    "\n",
    "Functions are necessary parts of programming as well as in data analysis. The idea behind a function is to perform a certain recipe/set of tasks; from a programming perspective it's useful to not need to retype lines of code over and over again, and from an analysis point of view it's equivalent to defining a mathematical function.\n",
    "\n",
    "For example, if we want to define a function that will take input from a user, and add 5 to the number:"
   ]
  },
  {
   "cell_type": "code",
   "execution_count": 1,
   "metadata": {
    "collapsed": true
   },
   "outputs": [],
   "source": [
    "def add_five(number):\n",
    "    new_value = number + 5\n",
    "    return new_value"
   ]
  },
  {
   "cell_type": "code",
   "execution_count": 2,
   "metadata": {},
   "outputs": [
    {
     "data": {
      "text/plain": [
       "15"
      ]
     },
     "execution_count": 2,
     "metadata": {},
     "output_type": "execute_result"
    }
   ],
   "source": [
    "add_five(10)"
   ]
  },
  {
   "cell_type": "markdown",
   "metadata": {},
   "source": [
    "Breaking down the three lines of code, the first line \"defines\" a function named `add_five` which takes an input variable `number`.\n",
    "\n",
    "The second line defines a new variable called `new_value`, and adds 5 to the input `number`.\n",
    "\n",
    "The last line reports the variable back to the user - if not assigned to a variable, it will be printed."
   ]
  },
  {
   "cell_type": "code",
   "execution_count": 4,
   "metadata": {},
   "outputs": [
    {
     "name": "stdout",
     "output_type": "stream",
     "text": [
      "7\n"
     ]
    }
   ],
   "source": [
    "number = add_five(2)\n",
    "\n",
    "print(number)"
   ]
  },
  {
   "cell_type": "markdown",
   "metadata": {},
   "source": [
    "A more complicated function might be the equation for a line:\n",
    "\n",
    "$$ y = mx + b $$\n",
    "\n",
    "This can be defined simply by:"
   ]
  },
  {
   "cell_type": "code",
   "execution_count": 5,
   "metadata": {
    "collapsed": true
   },
   "outputs": [],
   "source": [
    "def linear(x, m, b):\n",
    "    return x * m + b"
   ]
  },
  {
   "cell_type": "markdown",
   "metadata": {},
   "source": [
    "The palette of things we can do is still quite limited. If we want to do more sophisticated things, we'll need more functions and/or more sophisticated operations. That being said, you can still do a lot with the stuff learnt so far.\n",
    "\n",
    "#### Example task\n",
    "\n",
    "Write a function that will calculate rigid rotor energy levels.\n",
    "\n",
    "\n",
    "There are actually multiple ways to do this. One using functions, and the other using list comprehensions:"
   ]
  },
  {
   "cell_type": "code",
   "execution_count": 29,
   "metadata": {
    "collapsed": true
   },
   "outputs": [],
   "source": [
    "# Solution 1\n",
    "\n",
    "def rigid_rotor(B, J):\n",
    "    return B * J * (J + 1)\n",
    "\n",
    "def rigid_rotor_levels(B, minJ, maxJ):\n",
    "    for J in range(minJ, maxJ + 1):                               # +1 is because range cuts off\n",
    "        energy = rigid_rotor(B, J)                                # Call the function\n",
    "        print(\"Energy for J=\" + str(J) + \"\\t\" + str(energy))      # \\t is the tab character"
   ]
  },
  {
   "cell_type": "code",
   "execution_count": 30,
   "metadata": {},
   "outputs": [
    {
     "name": "stdout",
     "output_type": "stream",
     "text": [
      "Energy for J=4\t38.624\n",
      "Energy for J=5\t57.93600000000001\n",
      "Energy for J=6\t81.1104\n",
      "Energy for J=7\t108.1472\n",
      "Energy for J=8\t139.0464\n",
      "Energy for J=9\t173.808\n",
      "Energy for J=10\t212.43200000000002\n"
     ]
    }
   ],
   "source": [
    "rigid_rotor_levels(1.9312, 4, 10)"
   ]
  },
  {
   "cell_type": "markdown",
   "metadata": {},
   "source": [
    "The advantage of this code is that you can use the function `rigid_rotor` to do computations elsewhere.\n",
    "\n",
    "Solution 2 is considerably less typing, sans the formatting:"
   ]
  },
  {
   "cell_type": "code",
   "execution_count": 31,
   "metadata": {},
   "outputs": [
    {
     "data": {
      "text/plain": [
       "[38.624,\n",
       " 57.93600000000001,\n",
       " 81.1104,\n",
       " 108.1472,\n",
       " 139.0464,\n",
       " 173.808,\n",
       " 212.43200000000002]"
      ]
     },
     "execution_count": 31,
     "metadata": {},
     "output_type": "execute_result"
    }
   ],
   "source": [
    "# Solution 2\n",
    "\n",
    "[1.9312 * J * (J + 1) for J in range(4, 11)]"
   ]
  },
  {
   "cell_type": "markdown",
   "metadata": {},
   "source": [
    "While the optimal solution depends on the purpose, I would prefer the first over the second. The second is more Pythonic, however in my opinion can be difficult to read, and does not allow you to reuse the code elsewhere. The logic on solution #1 is much clearer."
   ]
  },
  {
   "cell_type": "markdown",
   "metadata": {},
   "source": [
    "---\n",
    "\n",
    "### Importing functions and libraries\n",
    "\n",
    "An almost vital part of using Python over other scientific analysis software is the availability of packages: the Python Package Index (PyPi) has over 100,000 packages now available for download for a wide range of applications. More often than not, if you need to get something done in Python someone has already devised a solution.\n",
    "\n",
    "Importing packages is very easy in Python, all that is required is the `import` command:"
   ]
  },
  {
   "cell_type": "code",
   "execution_count": 34,
   "metadata": {
    "collapsed": true
   },
   "outputs": [],
   "source": [
    "import math"
   ]
  },
  {
   "cell_type": "markdown",
   "metadata": {},
   "source": [
    "`math` is a library that comes attached with stock Python installations. As the name suggests, it contains basic functions used in maths, such as the trigonometric functions, and logarithms."
   ]
  },
  {
   "cell_type": "code",
   "execution_count": 35,
   "metadata": {},
   "outputs": [
    {
     "data": {
      "text/plain": [
       "<function math.sin>"
      ]
     },
     "execution_count": 35,
     "metadata": {},
     "output_type": "execute_result"
    }
   ],
   "source": [
    "math.sin"
   ]
  },
  {
   "cell_type": "code",
   "execution_count": 36,
   "metadata": {},
   "outputs": [
    {
     "data": {
      "text/plain": [
       "<function math.exp>"
      ]
     },
     "execution_count": 36,
     "metadata": {},
     "output_type": "execute_result"
    }
   ],
   "source": [
    "math.exp"
   ]
  },
  {
   "cell_type": "markdown",
   "metadata": {},
   "source": [
    "Sometimes, you want to import only a specific function rather than the entire library. This can be done by the following syntax:"
   ]
  },
  {
   "cell_type": "code",
   "execution_count": 37,
   "metadata": {
    "collapsed": true
   },
   "outputs": [],
   "source": [
    "from math import cos"
   ]
  },
  {
   "cell_type": "markdown",
   "metadata": {},
   "source": [
    "The function `cos` can now be called without expressly specifying `math`. There are many more packages to discover, and the following tutorials will be covering a few of them that are important/relevant to the physical sciences."
   ]
  }
 ],
 "metadata": {
  "kernelspec": {
   "display_name": "Python 3",
   "language": "python",
   "name": "python3"
  },
  "language_info": {
   "codemirror_mode": {
    "name": "ipython",
    "version": 3
   },
   "file_extension": ".py",
   "mimetype": "text/x-python",
   "name": "python",
   "nbconvert_exporter": "python",
   "pygments_lexer": "ipython3",
   "version": "3.6.1"
  }
 },
 "nbformat": 4,
 "nbformat_minor": 2
}
