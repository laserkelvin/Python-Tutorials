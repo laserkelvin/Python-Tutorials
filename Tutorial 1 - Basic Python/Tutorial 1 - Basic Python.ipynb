{
 "cells": [
  {
   "cell_type": "markdown",
   "metadata": {},
   "source": [
    "## Tutorial 1 - Basic Python\n",
    "\n",
    "This chapter focuses on providing a foundation to Python: how to run Python, the basic data types, and how to write functions to perform tasks.\n",
    "\n",
    "### Topics covered:\n",
    "\n",
    "- Hello world!\n",
    "    - Executing commands\n",
    "    - Printing\n",
    "- Data types\n",
    "    - Segue from inability to print a combination of number and words\n",
    "    - Have to wrap as a `str` type\n",
    "    - `int`, `float`, `str`\n",
    "    - `list`, `dict`\n",
    "- Functions\n",
    "    - How to define `func` in Python\n",
    "    - Basic hello world function\n",
    "    - Basic \"print a number\"\n",
    "    - Basic arithmetic\n",
    "- Iterating in Python\n",
    "    - `for` loops\n",
    "    - `list` comprehension (contrast with C++)\n",
    "    - `dict` looping\n",
    "- External libraries\n",
    "    - Importing a function\n",
    "    - Importing installed packages (`os`, `shutil`)"
   ]
  },
  {
   "cell_type": "markdown",
   "metadata": {},
   "source": [
    "---\n",
    "\n",
    "### Hello world!\n",
    "\n",
    "Commands in the Python interpreter are run interactively - this means that lines are typed in one by one, and the result is piped back to you as an output, kind of like a dialogue between you and the computer.\n",
    "\n",
    "The simplest command we can run is the `print()` command, which is broken down  into two parts:\n",
    "\n",
    "`print` is the name of the function, which is an internally defined function in Python."
   ]
  },
  {
   "cell_type": "code",
   "execution_count": 1,
   "metadata": {},
   "outputs": [
    {
     "data": {
      "text/plain": [
       "<function print>"
      ]
     },
     "execution_count": 1,
     "metadata": {},
     "output_type": "execute_result"
    }
   ],
   "source": [
    "print"
   ]
  },
  {
   "cell_type": "markdown",
   "metadata": {},
   "source": [
    "Without specifying an \"argument\" (i.e. a variable) to a function, Python returns the data type - in this case, Python recognizes `print` is a function. An argument is provided by parentheses:"
   ]
  },
  {
   "cell_type": "code",
   "execution_count": 3,
   "metadata": {},
   "outputs": [
    {
     "name": "stdout",
     "output_type": "stream",
     "text": [
      "Hello world!\n"
     ]
    }
   ],
   "source": [
    "print(\"Hello world!\")"
   ]
  },
  {
   "cell_type": "markdown",
   "metadata": {},
   "source": [
    "So the `print` function takes input within the quote marks, and displays it on screen. If we omit the quote marks, the interpreter won't be happy:"
   ]
  },
  {
   "cell_type": "code",
   "execution_count": 8,
   "metadata": {},
   "outputs": [
    {
     "ename": "SyntaxError",
     "evalue": "invalid syntax (<ipython-input-8-73d27853944f>, line 1)",
     "output_type": "error",
     "traceback": [
      "\u001b[0;36m  File \u001b[0;32m\"<ipython-input-8-73d27853944f>\"\u001b[0;36m, line \u001b[0;32m1\u001b[0m\n\u001b[0;31m    print(Hello world!)\u001b[0m\n\u001b[0m                    ^\u001b[0m\n\u001b[0;31mSyntaxError\u001b[0m\u001b[0;31m:\u001b[0m invalid syntax\n"
     ]
    }
   ],
   "source": [
    "print(Hello world!)"
   ]
  },
  {
   "cell_type": "markdown",
   "metadata": {},
   "source": [
    "There are two mistakes in the above code: Python interprets everything typed outside of quote marks as variables, and so it's actually interpreting the \"hello\" and the \"world\" as two variables, and the bang (!) as a conditional (more on that later). The correct way to print the message is by wrapping the whole message as a single \"string\" by placing it in quotation marks.\n",
    "\n",
    "An exception to this is printing numeric values:"
   ]
  },
  {
   "cell_type": "code",
   "execution_count": 6,
   "metadata": {},
   "outputs": [
    {
     "name": "stdout",
     "output_type": "stream",
     "text": [
      "5\n"
     ]
    }
   ],
   "source": [
    "# Print the number five\n",
    "print(5)"
   ]
  },
  {
   "cell_type": "code",
   "execution_count": 7,
   "metadata": {},
   "outputs": [
    {
     "name": "stdout",
     "output_type": "stream",
     "text": [
      "0.2\n"
     ]
    }
   ],
   "source": [
    "# You can also print decimal values\n",
    "print(0.2)"
   ]
  },
  {
   "cell_type": "markdown",
   "metadata": {},
   "source": [
    "---\n",
    "\n",
    "### Data types\n",
    "\n",
    "The `print` function, as we have seen, will display whatever we have fed to it so far as an argument. While it's nice to be able to write Hello world, it's infinitely more useful to be able to do print numbers and text in the same line. To combine multiple words/sentences together, we can \"add\" them:"
   ]
  },
  {
   "cell_type": "code",
   "execution_count": 9,
   "metadata": {},
   "outputs": [
    {
     "name": "stdout",
     "output_type": "stream",
     "text": [
      "Helloworld!\n"
     ]
    }
   ],
   "source": [
    "print(\"Hello\" + \"world!\")"
   ]
  },
  {
   "cell_type": "markdown",
   "metadata": {},
   "source": [
    "The resulting printout is the combination of the two words - in Python, this type of data is called a __string__, known internally as `str`"
   ]
  },
  {
   "cell_type": "code",
   "execution_count": 12,
   "metadata": {},
   "outputs": [
    {
     "data": {
      "text/plain": [
       "str"
      ]
     },
     "execution_count": 12,
     "metadata": {},
     "output_type": "execute_result"
    }
   ],
   "source": [
    "str"
   ]
  },
  {
   "cell_type": "markdown",
   "metadata": {},
   "source": [
    "If you are running Python interactively using IPython or Jupyter notebook, data types are displayed with green text.\n",
    "\n",
    "The operation is different, however, when dealing with computations. The end result of whatever you ask Python to do is printed:"
   ]
  },
  {
   "cell_type": "code",
   "execution_count": 13,
   "metadata": {},
   "outputs": [
    {
     "name": "stdout",
     "output_type": "stream",
     "text": [
      "7\n"
     ]
    }
   ],
   "source": [
    "print(5 + 2)"
   ]
  },
  {
   "cell_type": "markdown",
   "metadata": {},
   "source": []
  }
 ],
 "metadata": {
  "kernelspec": {
   "display_name": "Python [default]",
   "language": "python",
   "name": "python3"
  },
  "language_info": {
   "codemirror_mode": {
    "name": "ipython",
    "version": 3
   },
   "file_extension": ".py",
   "mimetype": "text/x-python",
   "name": "python",
   "nbconvert_exporter": "python",
   "pygments_lexer": "ipython3",
   "version": "3.5.3"
  }
 },
 "nbformat": 4,
 "nbformat_minor": 2
}
